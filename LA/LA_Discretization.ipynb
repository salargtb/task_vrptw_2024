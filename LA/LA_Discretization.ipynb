{
 "cells": [
  {
   "cell_type": "markdown",
   "metadata": {},
   "source": [
    "### This notebook includes codes for LA-Discretization algorithms developed in Mandal et al. (2024) paper. \n",
    "### Please note that modules and functions are listed in util_LA.py script"
   ]
  },
  {
   "cell_type": "markdown",
   "metadata": {},
   "source": [
    "#### First we import the required packages and modules from util_baseline.py script"
   ]
  },
  {
   "cell_type": "code",
   "execution_count": 1,
   "metadata": {},
   "outputs": [],
   "source": [
    "import pandas as pd\n",
    "import copy\n",
    "from util_LA import travel_time_computer, generate_E_star, create_buckets, create_neighborhoods, generate_P_plus, creating_efficient_frontier, construct_R, construct_capacity_graph, construct_time_graph\n",
    "from util_LA import create_E_u_star_dict, calculate_a_wvr, calculate_E_star_uw_dict, calculate_aw_star_r, mip_solver, lp_relaxation_solver\n",
    "from util_LA import merge_buckets, compute_k, expand_capacity_buckets, expand_time_buckets"
   ]
  },
  {
   "cell_type": "markdown",
   "metadata": {},
   "source": [
    "#### Data for different experiments is imported from excel file. We also add another row for the ending node. The ending with its attributes are added to the last row of df"
   ]
  },
  {
   "cell_type": "code",
   "execution_count": 2,
   "metadata": {},
   "outputs": [],
   "source": [
    "df = pd.read_csv('R105.csv')\n",
    "df = df.iloc[:51]\n",
    "# Adding ending node depot\n",
    "new_row = df.iloc[0].copy() \n",
    "new_row[\"CUST NO.\"] = len(df) + 1\n",
    "new_row_df = pd.DataFrame([new_row])\n",
    "df = pd.concat([df, new_row_df], ignore_index=True)"
   ]
  },
  {
   "cell_type": "markdown",
   "metadata": {},
   "source": [
    "#### Preprocessing data"
   ]
  },
  {
   "cell_type": "code",
   "execution_count": 3,
   "metadata": {},
   "outputs": [],
   "source": [
    "# extracting data of customers and depots from the dataframe\n",
    "node_data = {}\n",
    "for idx, row in df.iterrows():\n",
    "    cid = int(row['CUST NO.'])  # or keep as float if you prefer\n",
    "    node_data[cid] = {\n",
    "        'x':        float(row['XCOORD.']),\n",
    "        'y':        float(row['YCOORD.']),\n",
    "        'demand':   float(row['DEMAND']),\n",
    "        'early':    float(row['READY TIME']),\n",
    "        'late':      float(row['DUE DATE']),\n",
    "        'service':  float(row['SERVICE TIME'])\n",
    "    }\n",
    "\n",
    "# Vehicle maximum time and capacity capacity\n",
    "d0 = 200.0\n",
    "t0 = node_data[1][\"late\"] # this is based on Solomon dataset. The total time is equal to uppper bound of depot time window\n",
    "k = 6\n",
    "\n",
    "# Getting time windows based on bedget remaining logic\n",
    "for u in node_data:\n",
    "    node_data[u][\"t_plus_budget\"] = t0 - node_data[u][\"early\"]  # Adjusted t^+ for budget logic\n",
    "    node_data[u][\"t_minus_budget\"] = t0 - node_data[u][\"late\"]  # Adjusted t^- for budget logic\n",
    "\n",
    "\n",
    "# Indices for depots\n",
    "alpha = 1\n",
    "bar_alpha = len(node_data)  \n",
    "\n",
    "# Extracting all customers from all nodes\n",
    "all_nodes = list(node_data.keys())  \n",
    "customers = [n for n in all_nodes if n not in (alpha, bar_alpha)]\n",
    "\n",
    "customer_demands = {n: node_data[n]['demand'] for n in customers}\n"
   ]
  },
  {
   "cell_type": "code",
   "execution_count": 4,
   "metadata": {},
   "outputs": [],
   "source": [
    "E_star = generate_E_star(all_nodes, node_data, alpha, bar_alpha, d0)\n",
    "\n",
    "# Create the buckets dictionary\n",
    "ds = 5   # used as increment factor for creating capacity buckets\n",
    "ts = 50  # used as increment factor for creating time buckets\n",
    "Du = {}  # initalizing capacity buckets\n",
    "Tu = {}  # initalizing time buckets\n",
    "for u in customers:\n",
    "    Du[u] = create_buckets(customer_demands[u], ds, d0)\n",
    "    Tu[u] = create_buckets(node_data[u][\"t_minus_budget\"], ts, node_data[u][\"t_plus_budget\"])"
   ]
  },
  {
   "cell_type": "markdown",
   "metadata": {},
   "source": [
    "#### The input parameters are initialized"
   ]
  },
  {
   "cell_type": "code",
   "execution_count": 5,
   "metadata": {},
   "outputs": [],
   "source": [
    "# inital parameters\n",
    "k = 6\n",
    "iter_max = 10\n",
    "min_inc = 1\n",
    "zeta = 9"
   ]
  },
  {
   "cell_type": "markdown",
   "metadata": {},
   "source": [
    "##### Here eficient frontier is created"
   ]
  },
  {
   "cell_type": "code",
   "execution_count": 6,
   "metadata": {},
   "outputs": [],
   "source": [
    "neighborhoods = create_neighborhoods(node_data, alpha+1, bar_alpha-1, k, t0, d0)\n",
    "\n",
    "P_plus = generate_P_plus(neighborhoods, node_data)\n",
    "\n",
    "\n",
    "R_dict = creating_efficient_frontier(node_data, P_plus)\n",
    "\n",
    "R = {}\n",
    "for u in customers:\n",
    "    R[u] = construct_R(u, R_dict, neighborhoods[u], bar_alpha, max_subset_size=5)"
   ]
  },
  {
   "cell_type": "markdown",
   "metadata": {},
   "source": [
    "#### LA-discretization algorithm"
   ]
  },
  {
   "cell_type": "code",
   "execution_count": null,
   "metadata": {},
   "outputs": [],
   "source": [
    "iter_since_reset = 0\n",
    "last_lp_val = -9999999\n",
    "N_u = neighborhoods"
   ]
  },
  {
   "cell_type": "code",
   "execution_count": null,
   "metadata": {},
   "outputs": [],
   "source": [
    "while iter_since_reset < iter_max:\n",
    "    prev_N_u = copy.deepcopy(N_u)\n",
    "    prev_Tu = copy.deepcopy(Tu)\n",
    "    prev_Du = copy.deepcopy(Du)\n",
    "    # Step 5-7: Reset neighborhoods if iter_since_reset >= zeta\n",
    "    if iter_since_reset >= zeta:\n",
    "        for u in customers:\n",
    "            N_u [u] = neighborhoods[u]\n",
    "\n",
    "    # Step 8: Solve LP relaxation\n",
    "    capacity_duals, time_duals, pi_uwvk, pi_uwk, zD, zT, lp_objective_value = lp_relaxation_solver(all_nodes, customers, customer_demands, node_data, E_star, t0, d0, alpha, bar_alpha, R, Du, Tu, N_u)\n",
    "    # capacity_duals, time_duals, zD, zT, lp_objective_value = lp_relaxation_solver(all_nodes, customers, customer_demands, node_data, E_star, t0, d0, alpha, bar_alpha, R, Du, Tu, N_u)\n",
    "\n",
    "    # Step 9-15: Check for LP improvement and apply contraction\n",
    "    if lp_objective_value > last_lp_val + min_inc:\n",
    "        # Line 10-12: Apply contraction operations\n",
    "        for u in customers:\n",
    "   \n",
    "            Du[u] = merge_buckets(u, Du[u], capacity_duals)\n",
    "            Tu[u] = merge_buckets(u, Tu[u], time_duals)\n",
    "            k_u = compute_k(u, N_u[u], pi_uwk, pi_uwvk, E_star)\n",
    "            N_u[u] = N_u[u][:k_u] if k_u < len(N_u[u]) else N_u[u]\n",
    "        breakpoint()            \n",
    "\n",
    "        # Update LP objective and iteration count\n",
    "        last_lp_val = lp_objective_value\n",
    "        iter_since_reset = 0\n",
    "    # Step 16-17: Expand buckets for sufficiency\n",
    "    Du = expand_capacity_buckets(Du, zD, customer_demands, d0)\n",
    "    Tu = expand_time_buckets(Tu, zT, travel_time_computer, node_data, t0)\n",
    "    # Du = expand_capacity_buckets(Du, zD, customer_demands, d0)\n",
    "    # Tu = expand_time_buckets(Tu, zT, travel_time_computer, node_data, t0)\n",
    "\n",
    "    # Increment iteration count\n",
    "    iter_since_reset += 1\n",
    "\n",
    "    if N_u == prev_N_u and Tu == prev_Tu and Du == prev_Du:\n",
    "        break\n",
    "    print(lp_objective_value)"
   ]
  },
  {
   "cell_type": "markdown",
   "metadata": {},
   "source": [
    "#### Now, the mixed integer linear programming model is solved using the adjusted Du, Tu, and N_u"
   ]
  },
  {
   "cell_type": "code",
   "execution_count": null,
   "metadata": {},
   "outputs": [],
   "source": [
    "for u in customers:\n",
    "    Du[u] = merge_buckets(u, Du[u], capacity_duals)\n",
    "    Tu[u] = merge_buckets(u, Tu[u], time_duals)\n",
    "    k_u = compute_k(u, N_u[u], pi_uwk, pi_uwvk, E_star)\n",
    "    N_u[u] = N_u[u][:k_u] if k_u < len(N_u[u]) else N_u[u]\n"
   ]
  },
  {
   "cell_type": "code",
   "execution_count": null,
   "metadata": {},
   "outputs": [],
   "source": [
    "mip_solver(all_nodes, customers, customer_demands, node_data, E_star, t0, d0, alpha, bar_alpha, R, Du, Tu, N_u)"
   ]
  }
 ],
 "metadata": {
  "kernelspec": {
   "display_name": "Python (myenv)",
   "language": "python",
   "name": "myenv"
  },
  "language_info": {
   "codemirror_mode": {
    "name": "ipython",
    "version": 3
   },
   "file_extension": ".py",
   "mimetype": "text/x-python",
   "name": "python",
   "nbconvert_exporter": "python",
   "pygments_lexer": "ipython3",
   "version": "3.12.7"
  }
 },
 "nbformat": 4,
 "nbformat_minor": 4
}
