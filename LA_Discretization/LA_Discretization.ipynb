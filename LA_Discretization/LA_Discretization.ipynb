{
 "cells": [
  {
   "cell_type": "markdown",
   "metadata": {},
   "source": [
    "### This notebook includes codes for LA-Discretization algorithms developed in Mandal et al. (2024) paper. \n",
    "### Please note that modules and functions are listed in util_LA.py script"
   ]
  },
  {
   "cell_type": "markdown",
   "metadata": {},
   "source": [
    "#### First we import the required packages and modules from util_baseline.py script"
   ]
  },
  {
   "cell_type": "code",
   "execution_count": 1,
   "metadata": {},
   "outputs": [],
   "source": [
    "import pandas as pd\n",
    "import copy\n",
    "from util_LA import travel_time_computer, generate_E_star, create_buckets, create_neighborhoods, generate_P_plus, creating_efficient_frontier, construct_R, construct_capacity_graph, construct_time_graph\n",
    "from util_LA import create_E_u_star_dict, calculate_a_wvr, calculate_E_star_uw_dict, calculate_aw_star_r, mip_solver, lp_relaxation_solver\n",
    "from util_LA import merge_buckets, compute_k, expand_capacity_buckets, expand_time_buckets"
   ]
  },
  {
   "cell_type": "markdown",
   "metadata": {},
   "source": [
    "#### Data for different experiments is imported from excel file. We also add another row for the ending node. The ending with its attributes are added to the last row of df"
   ]
  },
  {
   "cell_type": "code",
   "execution_count": 2,
   "metadata": {},
   "outputs": [],
   "source": [
    "# df = pd.read_excel(\"C106_50.xlsx\")\n",
    "# df = pd.read_excel(\"RC101_50.xlsx\")\n",
    "# df = pd.read_excel(\"C101_50.xlsx\")\n",
    "df = pd.read_excel(\"R109_25.xlsx\")\n",
    "# Adding ending node depot\n",
    "new_row = df.iloc[0].copy() \n",
    "new_row[\"NO.\"] = len(df) + 1\n",
    "new_row_df = pd.DataFrame([new_row])\n",
    "df = pd.concat([df, new_row_df], ignore_index=True)"
   ]
  },
  {
   "cell_type": "markdown",
   "metadata": {},
   "source": [
    "#### Preprocessing data"
   ]
  },
  {
   "cell_type": "code",
   "execution_count": 3,
   "metadata": {},
   "outputs": [],
   "source": [
    "# extracting data of customers and depots from the dataframe\n",
    "node_data = {}\n",
    "for idx, row in df.iterrows():\n",
    "    cid = int(row['NO.'])  # or keep as float if you prefer\n",
    "    node_data[cid] = {\n",
    "        'x':        float(row['XCOORD.']),\n",
    "        'y':        float(row['YCOORD.']),\n",
    "        'demand':   float(row['DEMAND']),\n",
    "        'early':    float(row['READYTime']),\n",
    "        'late':      float(row['DUEDATE']),\n",
    "        'service':  float(row['SERVICETIME'])\n",
    "    }\n",
    "\n",
    "# Vehicle maximum time and capacity capacity\n",
    "d0 = 200.0\n",
    "t0 = node_data[1][\"late\"] # this is based on Solomon dataset. The total time is equal to uppper bound of depot time window\n",
    "k = 6\n",
    "\n",
    "# Getting time windows based on bedget remaining logic\n",
    "for u in node_data:\n",
    "    node_data[u][\"t_plus_budget\"] = t0 - node_data[u][\"early\"]  # Adjusted t^+ for budget logic\n",
    "    node_data[u][\"t_minus_budget\"] = t0 - node_data[u][\"late\"]  # Adjusted t^- for budget logic\n",
    "\n",
    "\n",
    "# Indices for depots\n",
    "alpha = 1\n",
    "bar_alpha = len(node_data)  \n",
    "\n",
    "# Extracting all customers from all nodes\n",
    "all_nodes = list(node_data.keys())  \n",
    "customers = [n for n in all_nodes if n not in (alpha, bar_alpha)]\n",
    "\n",
    "customer_demands = {n: node_data[n]['demand'] for n in customers}\n"
   ]
  },
  {
   "cell_type": "code",
   "execution_count": 4,
   "metadata": {},
   "outputs": [],
   "source": [
    "E_star = generate_E_star(all_nodes, node_data, alpha, bar_alpha, d0)\n",
    "\n",
    "# Create the buckets dictionary\n",
    "ds = 5   # used as increment factor for creating capacity buckets\n",
    "ts = 50  # used as increment factor for creating time buckets\n",
    "Du = {}  # initalizing capacity buckets\n",
    "Tu = {}  # initalizing time buckets\n",
    "for u in customers:\n",
    "    Du[u] = create_buckets(customer_demands[u], ds, d0)\n",
    "    Tu[u] = create_buckets(node_data[u][\"t_minus_budget\"], ts, node_data[u][\"t_plus_budget\"])"
   ]
  },
  {
   "cell_type": "markdown",
   "metadata": {},
   "source": [
    "#### The input parameters are initialized"
   ]
  },
  {
   "cell_type": "code",
   "execution_count": 5,
   "metadata": {},
   "outputs": [],
   "source": [
    "# inital parameters\n",
    "k = 6\n",
    "iter_max = 10\n",
    "min_inc = 1\n",
    "zeta = 9"
   ]
  },
  {
   "cell_type": "markdown",
   "metadata": {},
   "source": [
    "##### Here eficient frontier is created"
   ]
  },
  {
   "cell_type": "code",
   "execution_count": 6,
   "metadata": {},
   "outputs": [],
   "source": [
    "neighborhoods = create_neighborhoods(node_data, alpha+1, bar_alpha-1, k, t0, d0)\n",
    "\n",
    "P_plus = generate_P_plus(neighborhoods, node_data)\n",
    "\n",
    "\n",
    "R_dict = creating_efficient_frontier(node_data, P_plus)\n",
    "\n",
    "R = {}\n",
    "for u in customers:\n",
    "    R[u] = construct_R(u, R_dict, neighborhoods[u], bar_alpha, max_subset_size=5)"
   ]
  },
  {
   "cell_type": "markdown",
   "metadata": {},
   "source": [
    "#### LA-discretization algorithm"
   ]
  },
  {
   "cell_type": "code",
   "execution_count": 7,
   "metadata": {},
   "outputs": [
    {
     "name": "stdout",
     "output_type": "stream",
     "text": [
      "Set parameter Username\n",
      "Set parameter LicenseID to value 2602720\n",
      "Academic license - for non-commercial use only - expires 2025-12-22\n"
     ]
    }
   ],
   "source": [
    "iter_since_reset = 0\n",
    "last_lp_val = -9999999\n",
    "N_u = neighborhoods\n",
    "while iter_since_reset < iter_max:\n",
    "    prev_N_u = copy.deepcopy(N_u)\n",
    "    prev_Tu = copy.deepcopy(Tu)\n",
    "    prev_Du = copy.deepcopy(Du)\n",
    "    # Step 5-7: Reset neighborhoods if iter_since_reset >= zeta\n",
    "    if iter_since_reset >= zeta:\n",
    "        for u in customers:\n",
    "            N_u [u] = neighborhoods[u]\n",
    "\n",
    "    # Step 8: Solve LP relaxation\n",
    "    capacity_duals, time_duals, pi_uwvk, pi_uwk, zD, zT, lp_objective_value = lp_relaxation_solver(all_nodes, customers, customer_demands, node_data, E_star, t0, d0, alpha, bar_alpha, R, Du, Tu, N_u)\n",
    "    \n",
    "    # Step 9-15: Check for LP improvement and apply contraction\n",
    "    if lp_objective_value > last_lp_val + min_inc:\n",
    "        # Line 10-12: Apply contraction operations\n",
    "        for u in customers:\n",
    "            breakpoint()\n",
    "            Du[u] = merge_buckets(u, Du[u], capacity_duals)\n",
    "            Tu[u] = merge_buckets(u, Tu[u], time_duals)\n",
    "            k_u = compute_k(u, N_u[u], pi_uwk, pi_uwvk, E_star)\n",
    "            N_u[u] = N_u[u][:k_u] if k_u < len(N_u[u]) else N_u[u]\n",
    "\n",
    "\n",
    "        # Update LP objective and iteration count\n",
    "        last_lp_val = lp_objective_value\n",
    "        iter_since_reset = 0\n",
    "    \n",
    "    # Step 16-17: Expand buckets for sufficiency\n",
    "\n",
    "    Du = expand_capacity_buckets(Du, zD, customer_demands, d0)\n",
    "    Tu = expand_time_buckets(Tu, zT, travel_time_computer, node_data, t0)\n",
    "\n",
    "    # Increment iteration count\n",
    "    iter_since_reset += 1\n",
    "\n",
    "    if N_u == prev_N_u and Tu == prev_Tu and Du == prev_Du:\n",
    "        break\n"
   ]
  },
  {
   "cell_type": "markdown",
   "metadata": {},
   "source": [
    "#### Now, the mixed integer linear programming model is solved using the adjusted Du, Tu, and N_u"
   ]
  },
  {
   "cell_type": "code",
   "execution_count": 8,
   "metadata": {},
   "outputs": [
    {
     "name": "stdout",
     "output_type": "stream",
     "text": [
      "Set parameter TimeLimit to value 1000\n",
      "Gurobi Optimizer version 12.0.0 build v12.0.0rc1 (mac64[x86] - Darwin 22.1.0 22A400)\n",
      "\n",
      "CPU model: Intel(R) Core(TM) i5-1038NG7 CPU @ 2.00GHz\n",
      "Thread count: 4 physical cores, 8 logical processors, using up to 8 threads\n",
      "\n",
      "Non-default parameters:\n",
      "TimeLimit  1000\n",
      "\n",
      "Optimize a model with 1611 rows, 4640 columns and 13225 nonzeros\n",
      "Model fingerprint: 0xda0d98bc\n",
      "Variable types: 54 continuous, 4586 integer (4586 binary)\n",
      "Coefficient statistics:\n",
      "  Matrix range     [1e+00, 3e+02]\n",
      "  Objective range  [7e+00, 6e+01]\n",
      "  Bounds range     [1e+00, 2e+02]\n",
      "  RHS range        [1e+00, 2e+02]\n",
      "Found heuristic solution: objective 1246.1601802\n",
      "Presolve removed 450 rows and 2757 columns\n",
      "Presolve time: 0.03s\n",
      "Presolved: 1161 rows, 1883 columns, 7021 nonzeros\n",
      "Variable types: 50 continuous, 1833 integer (1799 binary)\n",
      "\n",
      "Root relaxation: objective 3.499679e+02, 174 iterations, 0.00 seconds (0.00 work units)\n",
      "\n",
      "    Nodes    |    Current Node    |     Objective Bounds      |     Work\n",
      " Expl Unexpl |  Obj  Depth IntInf | Incumbent    BestBd   Gap | It/Node Time\n",
      "\n",
      "     0     0  349.96793    0   91 1246.16018  349.96793  71.9%     -    0s\n",
      "H    0     0                     751.2476514  349.96793  53.4%     -    0s\n",
      "H    0     0                     546.1911091  349.96793  35.9%     -    0s\n",
      "H    0     0                     540.6238452  349.96793  35.3%     -    0s\n",
      "H    0     0                     522.8347696  365.90435  30.0%     -    0s\n",
      "     0     0  365.90435    0  112  522.83477  365.90435  30.0%     -    0s\n",
      "H    0     0                     511.6333322  366.09840  28.4%     -    0s\n",
      "     0     0  368.89268    0  124  511.63333  368.89268  27.9%     -    0s\n",
      "     0     0  370.03211    0  120  511.63333  370.03211  27.7%     -    0s\n",
      "     0     0  370.12400    0  121  511.63333  370.12400  27.7%     -    0s\n",
      "     0     0  370.12475    0  134  511.63333  370.12475  27.7%     -    0s\n",
      "     0     0  383.07224    0  131  511.63333  383.07224  25.1%     -    0s\n",
      "H    0     0                     506.4417265  383.77766  24.2%     -    0s\n",
      "     0     0  385.41543    0  124  506.44173  385.41543  23.9%     -    0s\n",
      "     0     0  386.46420    0  141  506.44173  386.46420  23.7%     -    0s\n",
      "     0     0  387.45475    0  147  506.44173  387.45475  23.5%     -    0s\n",
      "     0     0  387.46069    0  149  506.44173  387.46069  23.5%     -    0s\n",
      "     0     0  405.30301    0  125  506.44173  405.30301  20.0%     -    0s\n",
      "H    0     0                     500.3862137  405.35083  19.0%     -    0s\n",
      "     0     0  409.67287    0  144  500.38621  409.67287  18.1%     -    0s\n",
      "     0     0  410.37939    0  140  500.38621  410.37939  18.0%     -    0s\n",
      "     0     0  410.48887    0  142  500.38621  410.48887  18.0%     -    0s\n",
      "     0     0  410.54728    0  142  500.38621  410.54728  18.0%     -    0s\n",
      "     0     0  410.54771    0  144  500.38621  410.54771  18.0%     -    0s\n",
      "H    0     0                     498.3217110  410.54771  17.6%     -    0s\n",
      "     0     0  415.08133    0  122  498.32171  415.08133  16.7%     -    0s\n",
      "     0     0  418.43996    0  135  498.32171  418.43996  16.0%     -    0s\n",
      "     0     0  418.54847    0  138  498.32171  418.54847  16.0%     -    0s\n",
      "     0     0  418.54847    0  138  498.32171  418.54847  16.0%     -    0s\n",
      "H    0     0                     458.4365899  418.54847  8.70%     -    0s\n",
      "     0     0  419.08946    0  150  458.43659  419.08946  8.58%     -    0s\n",
      "     0     0  419.23514    0  134  458.43659  419.23514  8.55%     -    0s\n",
      "     0     0  419.43466    0  137  458.43659  419.43466  8.51%     -    0s\n",
      "H    0     0                     442.6252016  419.49800  5.23%     -    0s\n",
      "     0     0  419.49800    0  139  442.62520  419.49800  5.23%     -    0s\n",
      "     0     0  419.51229    0  143  442.62520  419.51229  5.22%     -    0s\n",
      "     0     0  419.51229    0  143  442.62520  419.51229  5.22%     -    0s\n",
      "     0     0  419.51229    0   90  442.62520  419.51229  5.22%     -    0s\n",
      "     0     0  419.51229    0   80  442.62520  419.51229  5.22%     -    0s\n",
      "     0     0  419.51229    0  136  442.62520  419.51229  5.22%     -    0s\n",
      "     0     0  419.51229    0  142  442.62520  419.51229  5.22%     -    0s\n",
      "     0     0  419.51229    0  146  442.62520  419.51229  5.22%     -    0s\n",
      "     0     0  419.56555    0  148  442.62520  419.56555  5.21%     -    0s\n",
      "     0     0  420.39545    0  148  442.62520  420.39545  5.02%     -    0s\n",
      "     0     0  421.47586    0  138  442.62520  421.47586  4.78%     -    0s\n",
      "     0     0  422.31169    0  141  442.62520  422.31169  4.59%     -    0s\n",
      "     0     0  422.37742    0  144  442.62520  422.37742  4.57%     -    0s\n",
      "     0     0  424.57342    0  133  442.62520  424.57342  4.08%     -    0s\n",
      "     0     0  425.21896    0  150  442.62520  425.21896  3.93%     -    0s\n",
      "     0     0  425.21896    0  150  442.62520  425.21896  3.93%     -    0s\n",
      "     0     0  425.21896    0  150  442.62520  425.21896  3.93%     -    0s\n",
      "     0     0  425.21896    0  162  442.62520  425.21896  3.93%     -    0s\n",
      "     0     0  425.21896    0  162  442.62520  425.21896  3.93%     -    0s\n",
      "     0     0  425.59018    0  162  442.62520  425.59018  3.85%     -    0s\n",
      "     0     2  425.99581    0  160  442.62520  425.99581  3.76%     -    0s\n",
      "\n",
      "Cutting planes:\n",
      "  Learned: 4\n",
      "  Cover: 10\n",
      "  Implied bound: 19\n",
      "  Clique: 12\n",
      "  MIR: 15\n",
      "  StrongCG: 1\n",
      "  GUB cover: 5\n",
      "  Zero half: 5\n",
      "  RLT: 11\n",
      "  Relax-and-lift: 27\n",
      "  BQP: 5\n",
      "  PSD: 2\n",
      "\n",
      "Explored 57 nodes (3607 simplex iterations) in 0.78 seconds (0.38 work units)\n",
      "Thread count was 8 (of 8 available processors)\n",
      "\n",
      "Solution count 10: 442.625 458.437 498.322 ... 751.248\n",
      "\n",
      "Optimal solution found (tolerance 1.00e-04)\n",
      "Best objective 4.426252015649e+02, best bound 4.426252015649e+02, gap 0.0000%\n",
      "Optimal solution found in 0.7870 seconds.\n",
      "Optimal objective value: 442.625\n"
     ]
    }
   ],
   "source": [
    "mip_solver(all_nodes, customers, customer_demands, node_data, E_star, t0, d0, alpha, bar_alpha, R, Du, Tu, N_u)"
   ]
  }
 ],
 "metadata": {
  "kernelspec": {
   "display_name": "Python (myenv)",
   "language": "python",
   "name": "myenv"
  },
  "language_info": {
   "codemirror_mode": {
    "name": "ipython",
    "version": 3
   },
   "file_extension": ".py",
   "mimetype": "text/x-python",
   "name": "python",
   "nbconvert_exporter": "python",
   "pygments_lexer": "ipython3",
   "version": "3.12.7"
  }
 },
 "nbformat": 4,
 "nbformat_minor": 4
}
