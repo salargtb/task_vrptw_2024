{
 "cells": [
  {
   "cell_type": "markdown",
   "metadata": {},
   "source": [
    "### This notebook includes codes for baseline scenario in Mandal et al. (2024) paper. \n",
    "### The baseline scenario is vrptw with 2 indices. Please note that modules and functions are listed in util_baseline.py script"
   ]
  },
  {
   "cell_type": "markdown",
   "metadata": {},
   "source": [
    "#### First we import the required packages and modules from util_baseline.py script"
   ]
  },
  {
   "cell_type": "code",
   "execution_count": 1,
   "metadata": {},
   "outputs": [],
   "source": [
    "import pandas as pd\n",
    "from util_baseline import generate_E_star, solve_model"
   ]
  },
  {
   "cell_type": "markdown",
   "metadata": {},
   "source": [
    "#### Data is imported from excel file. We also add another row for the ending node. The ending with its attributes are added to the last row of df"
   ]
  },
  {
   "cell_type": "code",
   "execution_count": 2,
   "metadata": {},
   "outputs": [],
   "source": [
    "df = pd.read_csv('R102.csv')\n",
    "df = df.iloc[:26]\n",
    "# Adding ending node depot\n",
    "new_row = df.iloc[0].copy() \n",
    "new_row[\"CUST NO.\"] = len(df) + 1\n",
    "new_row_df = pd.DataFrame([new_row])\n",
    "df = pd.concat([df, new_row_df], ignore_index=True)"
   ]
  },
  {
   "cell_type": "markdown",
   "metadata": {},
   "source": [
    "#### Preprocessing data"
   ]
  },
  {
   "cell_type": "code",
   "execution_count": 3,
   "metadata": {},
   "outputs": [],
   "source": [
    "# Vehicle maximum time and capacity capacity\n",
    "\n",
    "\n",
    "# extracting data of customers and depots from the dataframe\n",
    "node_data = {}\n",
    "for idx, row in df.iterrows():\n",
    "    cid = int(row['CUST NO.'])  # or keep as float if you prefer\n",
    "    node_data[cid] = {\n",
    "        'x':        float(row['XCOORD.']),\n",
    "        'y':        float(row['YCOORD.']),\n",
    "        'demand':   float(row['DEMAND']),\n",
    "        'early':    float(row['READY TIME']),\n",
    "        'late':      float(row['DUE DATE']),\n",
    "        'service':  float(row['SERVICE TIME'])\n",
    "    }\n",
    "\n",
    "d0 = 200.0\n",
    "t0 = node_data[1][\"late\"] # this is based on Solomon dataset. The total time is equal to uppper bound of depot time window\n",
    "\n",
    "\n",
    "# Getting time windows based on bedget remaining logic\n",
    "for u in node_data:\n",
    "    node_data[u][\"t_plus_budget\"] = t0 - node_data[u][\"early\"]  # Adjusted t^+ for budget logic\n",
    "    node_data[u][\"t_minus_budget\"] = t0 - node_data[u][\"late\"]  # Adjusted t^- for budget logic\n",
    "\n",
    "node_data[1][\"t_minus_budget\"] = node_data[1][\"t_plus_budget\"]\n",
    "# Indices for depots\n",
    "alpha = 1\n",
    "bar_alpha = len(node_data)  \n",
    "\n",
    "# Extracting all customers from all nodes\n",
    "all_nodes = list(node_data.keys())  # e.g. [0,1,2,3,4,5]\n",
    "customers = [n for n in all_nodes if n not in (alpha, bar_alpha)]"
   ]
  },
  {
   "cell_type": "markdown",
   "metadata": {},
   "source": [
    "#### Creating feasible arcs for the model. The infeasible arcs in terms of time windows and capacity are excluded from the network"
   ]
  },
  {
   "cell_type": "code",
   "execution_count": 4,
   "metadata": {},
   "outputs": [],
   "source": [
    "E_star = generate_E_star(all_nodes, node_data, alpha, bar_alpha, d0)"
   ]
  },
  {
   "cell_type": "markdown",
   "metadata": {},
   "source": [
    "#### Solving the objective function model"
   ]
  },
  {
   "cell_type": "code",
   "execution_count": null,
   "metadata": {},
   "outputs": [
    {
     "name": "stdout",
     "output_type": "stream",
     "text": [
      "Set parameter Username\n",
      "Set parameter LicenseID to value 2602720\n",
      "Academic license - for non-commercial use only - expires 2025-12-22\n",
      "Set parameter TimeLimit to value 1000\n",
      "Gurobi Optimizer version 12.0.0 build v12.0.0rc1 (mac64[x86] - Darwin 22.1.0 22A400)\n",
      "\n",
      "CPU model: Intel(R) Core(TM) i5-1038NG7 CPU @ 2.00GHz\n",
      "Thread count: 4 physical cores, 8 logical processors, using up to 8 threads\n",
      "\n",
      "Non-default parameters:\n",
      "TimeLimit  1000\n",
      "\n",
      "Optimize a model with 2869 rows, 1538 columns and 11116 nonzeros\n",
      "Model fingerprint: 0x4ec6b941\n",
      "Variable types: 104 continuous, 1434 integer (1434 binary)\n",
      "Coefficient statistics:\n",
      "  Matrix range     [1e+00, 3e+02]\n",
      "  Objective range  [5e+00, 8e+01]\n",
      "  Bounds range     [1e+00, 2e+02]\n",
      "  RHS range        [1e+00, 2e+02]\n",
      "Found heuristic solution: objective 2624.8000000\n",
      "Presolve added 0 rows and 2 columns\n",
      "Presolve removed 436 rows and 0 columns\n",
      "Presolve time: 0.06s\n",
      "Presolved: 2433 rows, 1540 columns, 18042 nonzeros\n",
      "Variable types: 94 continuous, 1446 integer (1432 binary)\n",
      "\n",
      "Root relaxation: objective 6.554005e+02, 384 iterations, 0.01 seconds (0.01 work units)\n",
      "\n",
      "    Nodes    |    Current Node    |     Objective Bounds      |     Work\n",
      " Expl Unexpl |  Obj  Depth IntInf | Incumbent    BestBd   Gap | It/Node Time\n",
      "\n",
      "     0     0  655.40050    0   85 2624.80000  655.40050  75.0%     -    0s\n",
      "H    0     0                    1296.3000000  655.40050  49.4%     -    0s\n",
      "H    0     0                    1173.4000000  655.40050  44.1%     -    0s\n",
      "H    0     0                    1086.2000000  655.40050  39.7%     -    0s\n",
      "H    0     0                    1048.9000000  655.40050  37.5%     -    0s\n",
      "H    0     0                    1047.3000000  707.12331  32.5%     -    0s\n",
      "H    0     0                    1041.0000000  707.12331  32.1%     -    0s\n",
      "     0     0  707.12331    0   99 1041.00000  707.12331  32.1%     -    0s\n",
      "H    0     0                    1026.3000000  707.15251  31.1%     -    0s\n",
      "H    0     0                     984.3000000  707.15251  28.2%     -    0s\n",
      "     0     0  719.79834    0   90  984.30000  719.79834  26.9%     -    0s\n",
      "     0     0  719.79834    0   90  984.30000  719.79834  26.9%     -    0s\n",
      "H    0     0                     977.3000000  719.79834  26.3%     -    0s\n",
      "     0     0  751.81792    0  103  977.30000  751.81792  23.1%     -    0s\n",
      "H    0     0                     970.3000000  752.54262  22.4%     -    0s\n",
      "H    0     0                     967.4000000  752.54262  22.2%     -    0s\n",
      "H    0     0                     960.9000000  752.54262  21.7%     -    0s\n",
      "     0     0  755.43442    0   95  960.90000  755.43442  21.4%     -    0s\n",
      "     0     0  755.69330    0  102  960.90000  755.69330  21.4%     -    0s\n",
      "     0     0  755.76188    0  102  960.90000  755.76188  21.3%     -    0s\n",
      "     0     0  755.76188    0  102  960.90000  755.76188  21.3%     -    0s\n",
      "H    0     0                     960.7000000  755.76188  21.3%     -    0s\n",
      "H    0     0                     949.7000000  784.21931  17.4%     -    0s\n",
      "     0     0  784.21931    0   83  949.70000  784.21931  17.4%     -    0s\n",
      "     0     0  784.86667    0   70  949.70000  784.86667  17.4%     -    0s\n",
      "     0     0  784.86667    0   70  949.70000  784.86667  17.4%     -    0s\n",
      "     0     0  788.13759    0   85  949.70000  788.13759  17.0%     -    0s\n",
      "     0     0  788.61436    0   94  949.70000  788.61436  17.0%     -    0s\n",
      "     0     0  788.61535    0   94  949.70000  788.61535  17.0%     -    0s\n",
      "H    0     0                     948.0000000  788.61535  16.8%     -    0s\n",
      "H    0     0                     946.5000000  788.79768  16.7%     -    0s\n",
      "     0     0  788.79768    0   91  946.50000  788.79768  16.7%     -    0s\n",
      "     0     0  788.88172    0  101  946.50000  788.88172  16.7%     -    0s\n",
      "     0     0  788.88172    0  101  946.50000  788.88172  16.7%     -    0s\n",
      "     0     0  789.31864    0   91  946.50000  789.31864  16.6%     -    0s\n",
      "H    0     0                     945.4000000  789.46589  16.5%     -    0s\n",
      "H    0     0                     943.5000000  789.46589  16.3%     -    1s\n",
      "H    0     0                     942.7000000  789.46589  16.3%     -    1s\n",
      "H    0     0                     937.2000000  789.46589  15.8%     -    1s\n",
      "H    0     0                     926.3000000  789.46589  14.8%     -    1s\n",
      "H    0     0                     924.5000000  789.46589  14.6%     -    1s\n",
      "     0     0  789.82651    0   95  924.50000  789.82651  14.6%     -    1s\n",
      "     0     0  789.82798    0  105  924.50000  789.82798  14.6%     -    1s\n",
      "     0     0  790.87097    0   96  924.50000  790.87097  14.5%     -    1s\n",
      "     0     0  791.55803    0  102  924.50000  791.55803  14.4%     -    1s\n",
      "     0     0  791.56282    0  115  924.50000  791.56282  14.4%     -    1s\n",
      "     0     0  791.87498    0  109  924.50000  791.87498  14.3%     -    1s\n",
      "     0     0  793.29686    0  114  924.50000  793.29686  14.2%     -    1s\n",
      "     0     0  793.29686    0  116  924.50000  793.29686  14.2%     -    1s\n",
      "     0     0  793.29686    0  117  924.50000  793.29686  14.2%     -    1s\n",
      "     0     0  793.29686    0  117  924.50000  793.29686  14.2%     -    1s\n",
      "     0     0  793.29686    0  117  924.50000  793.29686  14.2%     -    1s\n",
      "     0     2  793.51559    0  117  924.50000  793.51559  14.2%     -    1s\n",
      "H  624   569                     923.1000000  801.83431  13.1%  24.8    2s\n",
      "H 1128   976                     922.2000000  801.83431  13.1%  23.8    2s\n",
      "H 1137   932                     921.7000000  819.76872  11.1%  23.6    5s\n",
      "H 1152   895                     920.3000000  832.90506  9.50%  23.3    7s\n",
      "  1177   915  837.29290   10  129  920.30000  837.02065  9.05%  25.7   10s\n",
      "  3257  1731  892.37603   21   65  920.30000  860.23894  6.53%  49.9   15s\n",
      "H 4149  1825                     911.4000000  862.36058  5.38%  49.8   16s\n",
      "  6279  3123  893.12154   18   83  911.40000  869.54035  4.59%  50.3   20s\n",
      "  9464  4462  907.46879   35   67  911.40000  873.62354  4.14%  50.3   25s\n",
      " 13489  6134  891.11852   31   70  911.40000  877.52188  3.72%  49.7   30s\n",
      " 15456  6937 infeasible   25       911.40000  879.20336  3.53%  49.7   35s\n",
      " 18886  7739  901.44408   32   86  911.40000  881.90041  3.24%  49.8   40s\n"
     ]
    }
   ],
   "source": [
    "objective_value = solve_model(all_nodes, customers, node_data, E_star, t0, d0, alpha, bar_alpha)"
   ]
  },
  {
   "cell_type": "code",
   "execution_count": null,
   "metadata": {},
   "outputs": [],
   "source": []
  }
 ],
 "metadata": {
  "kernelspec": {
   "display_name": "Python (myenv)",
   "language": "python",
   "name": "myenv"
  },
  "language_info": {
   "codemirror_mode": {
    "name": "ipython",
    "version": 3
   },
   "file_extension": ".py",
   "mimetype": "text/x-python",
   "name": "python",
   "nbconvert_exporter": "python",
   "pygments_lexer": "ipython3",
   "version": "3.12.7"
  }
 },
 "nbformat": 4,
 "nbformat_minor": 4
}
