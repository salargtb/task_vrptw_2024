{
 "cells": [
  {
   "cell_type": "markdown",
   "metadata": {},
   "source": [
    "### This notebook includes codes for baseline scenario in Mandal et al. (2024) paper. \n",
    "### The baseline scenario is vrptw with 2 indices. Please note that modules and functions are listed in util_baseline.py script"
   ]
  },
  {
   "cell_type": "markdown",
   "metadata": {},
   "source": [
    "#### First we import the required packages and modules from util_baseline.py script"
   ]
  },
  {
   "cell_type": "code",
   "execution_count": 1,
   "metadata": {},
   "outputs": [],
   "source": [
    "import pandas as pd\n",
    "from util_baseline import generate_E_star, solve_model"
   ]
  },
  {
   "cell_type": "markdown",
   "metadata": {},
   "source": [
    "#### Data is imported from excel file. We also add another row for the ending node. The ending with its attributes are added to the last row of df"
   ]
  },
  {
   "cell_type": "code",
   "execution_count": 2,
   "metadata": {},
   "outputs": [],
   "source": [
    "df = pd.read_csv('R105.csv')\n",
    "df = df.iloc[:51]\n",
    "# Adding ending node depot\n",
    "new_row = df.iloc[0].copy() \n",
    "new_row[\"CUST NO.\"] = len(df) + 1\n",
    "new_row_df = pd.DataFrame([new_row])\n",
    "df = pd.concat([df, new_row_df], ignore_index=True)"
   ]
  },
  {
   "cell_type": "markdown",
   "metadata": {},
   "source": [
    "#### Preprocessing data"
   ]
  },
  {
   "cell_type": "code",
   "execution_count": 3,
   "metadata": {},
   "outputs": [],
   "source": [
    "# Vehicle maximum time and capacity capacity\n",
    "\n",
    "\n",
    "# extracting data of customers and depots from the dataframe\n",
    "node_data = {}\n",
    "for idx, row in df.iterrows():\n",
    "    cid = int(row['CUST NO.'])  # or keep as float if you prefer\n",
    "    node_data[cid] = {\n",
    "        'x':        float(row['XCOORD.']),\n",
    "        'y':        float(row['YCOORD.']),\n",
    "        'demand':   float(row['DEMAND']),\n",
    "        'early':    float(row['READY TIME']),\n",
    "        'late':      float(row['DUE DATE']),\n",
    "        'service':  float(row['SERVICE TIME'])\n",
    "    }\n",
    "\n",
    "d0 = 200.0\n",
    "t0 = node_data[1][\"late\"] # this is based on Solomon dataset. The total time is equal to uppper bound of depot time window\n",
    "\n",
    "\n",
    "# Getting time windows based on bedget remaining logic\n",
    "for u in node_data:\n",
    "    node_data[u][\"t_plus_budget\"] = t0 - node_data[u][\"early\"]  # Adjusted t^+ for budget logic\n",
    "    node_data[u][\"t_minus_budget\"] = t0 - node_data[u][\"late\"]  # Adjusted t^- for budget logic\n",
    "\n",
    "node_data[1][\"t_minus_budget\"] = node_data[1][\"t_plus_budget\"]\n",
    "# Indices for depots\n",
    "alpha = 1\n",
    "bar_alpha = len(node_data)  \n",
    "\n",
    "# Extracting all customers from all nodes\n",
    "all_nodes = list(node_data.keys())  # e.g. [0,1,2,3,4,5]\n",
    "customers = [n for n in all_nodes if n not in (alpha, bar_alpha)]"
   ]
  },
  {
   "cell_type": "markdown",
   "metadata": {},
   "source": [
    "#### Creating feasible arcs for the model. The infeasible arcs in terms of time windows and capacity are excluded from the network"
   ]
  },
  {
   "cell_type": "code",
   "execution_count": 4,
   "metadata": {},
   "outputs": [],
   "source": [
    "E_star = generate_E_star(all_nodes, node_data, alpha, bar_alpha, d0)"
   ]
  },
  {
   "cell_type": "markdown",
   "metadata": {},
   "source": [
    "#### Solving the objective function model"
   ]
  },
  {
   "cell_type": "code",
   "execution_count": 5,
   "metadata": {},
   "outputs": [
    {
     "name": "stdout",
     "output_type": "stream",
     "text": [
      "Set parameter Username\n",
      "Set parameter LicenseID to value 2602720\n",
      "Academic license - for non-commercial use only - expires 2025-12-22\n",
      "Set parameter TimeLimit to value 1000\n",
      "Gurobi Optimizer version 12.0.0 build v12.0.0rc1 (mac64[x86] - Darwin 22.1.0 22A400)\n",
      "\n",
      "CPU model: Intel(R) Core(TM) i5-1038NG7 CPU @ 2.00GHz\n",
      "Thread count: 4 physical cores, 8 logical processors, using up to 8 threads\n",
      "\n",
      "Non-default parameters:\n",
      "TimeLimit  1000\n",
      "\n",
      "Optimize a model with 601 rows, 354 columns and 2219 nonzeros\n",
      "Model fingerprint: 0xf403de5c\n",
      "Variable types: 54 continuous, 300 integer (300 binary)\n",
      "Coefficient statistics:\n",
      "  Matrix range     [1e+00, 2e+02]\n",
      "  Objective range  [7e+00, 6e+01]\n",
      "  Bounds range     [1e+00, 2e+02]\n",
      "  RHS range        [1e+00, 2e+02]\n",
      "Found heuristic solution: objective 1246.1800000\n",
      "Presolve removed 236 rows and 32 columns\n",
      "Presolve time: 0.02s\n",
      "Presolved: 365 rows, 322 columns, 3041 nonzeros\n",
      "Variable types: 28 continuous, 294 integer (284 binary)\n",
      "\n",
      "Root relaxation: objective 4.791267e+02, 122 iterations, 0.00 seconds (0.00 work units)\n",
      "\n",
      "    Nodes    |    Current Node    |     Objective Bounds      |     Work\n",
      " Expl Unexpl |  Obj  Depth IntInf | Incumbent    BestBd   Gap | It/Node Time\n",
      "\n",
      "     0     0  479.12674    0   46 1246.18000  479.12674  61.6%     -    0s\n",
      "H    0     0                     725.6700000  479.12674  34.0%     -    0s\n",
      "H    0     0                     613.8500000  479.12674  21.9%     -    0s\n",
      "H    0     0                     607.5200000  479.12674  21.1%     -    0s\n",
      "H    0     0                     603.6900000  479.12674  20.6%     -    0s\n",
      "     0     0  510.75291    0   33  603.69000  510.75291  15.4%     -    0s\n",
      "H    0     0                     592.0300000  511.11969  13.7%     -    0s\n",
      "H    0     0                     591.0500000  511.11969  13.5%     -    0s\n",
      "H    0     0                     589.5900000  512.00860  13.2%     -    0s\n",
      "     0     0  512.00860    0   35  589.59000  512.00860  13.2%     -    0s\n",
      "     0     0  512.51065    0   35  589.59000  512.51065  13.1%     -    0s\n",
      "H    0     0                     589.3300000  512.51065  13.0%     -    0s\n",
      "H    0     0                     543.2700000  512.51065  5.66%     -    0s\n",
      "     0     0  519.63667    0   35  543.27000  519.63667  4.35%     -    0s\n",
      "     0     0  519.66000    0   34  543.27000  519.66000  4.35%     -    0s\n",
      "H    0     0                     538.3600000  519.66000  3.47%     -    0s\n",
      "H    0     0                     537.5100000  519.66000  3.32%     -    0s\n",
      "     0     0  520.01443    0   44  537.51000  520.01443  3.25%     -    0s\n",
      "     0     0  520.01443    0   46  537.51000  520.01443  3.25%     -    0s\n",
      "H    0     0                     531.8000000  520.01443  2.22%     -    0s\n",
      "     0     0  523.52934    0   29  531.80000  523.52934  1.56%     -    0s\n",
      "     0     0  527.67163    0    9  531.80000  527.67163  0.78%     -    0s\n",
      "     0     0  528.28337    0   16  531.80000  528.28337  0.66%     -    0s\n",
      "*    0     0               0     531.5400000  531.54000  0.00%     -    0s\n",
      "\n",
      "Cutting planes:\n",
      "  Learned: 7\n",
      "  Gomory: 4\n",
      "  Cover: 10\n",
      "  Implied bound: 1\n",
      "  Clique: 4\n",
      "  MIR: 5\n",
      "  GUB cover: 2\n",
      "  Zero half: 2\n",
      "  Relax-and-lift: 2\n",
      "\n",
      "Explored 1 nodes (603 simplex iterations) in 0.16 seconds (0.05 work units)\n",
      "Thread count was 8 (of 8 available processors)\n",
      "\n",
      "Solution count 10: 531.54 531.8 537.51 ... 603.69\n",
      "\n",
      "Optimal solution found (tolerance 1.00e-04)\n",
      "Best objective 5.315400000000e+02, best bound 5.315400000000e+02, gap 0.0000%\n",
      "Optimal solution found in 0.1699 seconds.\n",
      "Optimal objective value: 531.540\n",
      "Used arcs:\n",
      "  1 -> 3, cost=18.00\n",
      "  1 -> 6, cost=20.62\n",
      "  1 -> 8, cost=21.21\n",
      "  1 -> 13, cost=15.00\n",
      "  1 -> 20, cost=32.02\n",
      "  1 -> 22, cost=18.03\n",
      "  2 -> 27, cost=15.23\n",
      "  3 -> 16, cost=13.00\n",
      "  4 -> 25, cost=14.14\n",
      "  5 -> 26, cost=10.00\n",
      "  6 -> 15, cost=20.00\n",
      "  7 -> 27, cost=11.18\n",
      "  8 -> 19, cost=10.00\n",
      "  9 -> 18, cost=13.93\n",
      "  10 -> 4, cost=15.00\n",
      "  11 -> 21, cost=15.81\n",
      "  12 -> 11, cost=11.18\n",
      "  13 -> 10, cost=25.50\n",
      "  14 -> 27, cost=11.18\n",
      "  15 -> 17, cost=11.18\n",
      "  16 -> 14, cost=20.00\n",
      "  17 -> 7, cost=18.03\n",
      "  18 -> 27, cost=30.41\n",
      "  19 -> 9, cost=10.44\n",
      "  20 -> 12, cost=7.07\n",
      "  21 -> 2, cost=16.49\n",
      "  22 -> 24, cost=18.03\n",
      "  23 -> 5, cost=14.14\n",
      "  24 -> 23, cost=11.18\n",
      "  25 -> 27, cost=30.00\n",
      "  26 -> 27, cost=33.54\n"
     ]
    }
   ],
   "source": [
    "objective_value = solve_model(all_nodes, customers, node_data, E_star, t0, d0, alpha, bar_alpha)"
   ]
  },
  {
   "cell_type": "code",
   "execution_count": null,
   "metadata": {},
   "outputs": [],
   "source": []
  }
 ],
 "metadata": {
  "kernelspec": {
   "display_name": "Python (myenv)",
   "language": "python",
   "name": "myenv"
  },
  "language_info": {
   "codemirror_mode": {
    "name": "ipython",
    "version": 3
   },
   "file_extension": ".py",
   "mimetype": "text/x-python",
   "name": "python",
   "nbconvert_exporter": "python",
   "pygments_lexer": "ipython3",
   "version": "3.12.7"
  }
 },
 "nbformat": 4,
 "nbformat_minor": 4
}
