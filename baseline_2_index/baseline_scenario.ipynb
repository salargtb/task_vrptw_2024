{
 "cells": [
  {
   "cell_type": "markdown",
   "metadata": {},
   "source": [
    "### This notebook includes codes for baseline scenario in Mandal et al. (2024) paper. \n",
    "### The baseline scenario is vrptw with 2 indices. Please note that modules and functions are listed in util_baseline.py script"
   ]
  },
  {
   "cell_type": "markdown",
   "metadata": {},
   "source": [
    "#### First we import the required packages and modules from util_baseline.py script"
   ]
  },
  {
   "cell_type": "code",
   "execution_count": 1,
   "metadata": {},
   "outputs": [],
   "source": [
    "import pandas as pd\n",
    "from util_baseline import generate_E_star, solve_model"
   ]
  },
  {
   "cell_type": "markdown",
   "metadata": {},
   "source": [
    "#### Data is imported from excel file. We also add another row for the ending node. The ending with its attributes are added to the last row of df"
   ]
  },
  {
   "cell_type": "code",
   "execution_count": 2,
   "metadata": {},
   "outputs": [],
   "source": [
    "df = pd.read_csv('R102.csv')\n",
    "df = df.iloc[:26]\n",
    "# Adding ending node depot\n",
    "new_row = df.iloc[0].copy() \n",
    "new_row[\"CUST NO.\"] = len(df) + 1\n",
    "new_row_df = pd.DataFrame([new_row])\n",
    "df = pd.concat([df, new_row_df], ignore_index=True)"
   ]
  },
  {
   "cell_type": "markdown",
   "metadata": {},
   "source": [
    "#### Preprocessing data"
   ]
  },
  {
   "cell_type": "code",
   "execution_count": 3,
   "metadata": {},
   "outputs": [],
   "source": [
    "# Vehicle maximum time and capacity capacity\n",
    "\n",
    "\n",
    "# extracting data of customers and depots from the dataframe\n",
    "node_data = {}\n",
    "for idx, row in df.iterrows():\n",
    "    cid = int(row['CUST NO.'])  # or keep as float if you prefer\n",
    "    node_data[cid] = {\n",
    "        'x':        float(row['XCOORD.']),\n",
    "        'y':        float(row['YCOORD.']),\n",
    "        'demand':   float(row['DEMAND']),\n",
    "        'early':    float(row['READY TIME']),\n",
    "        'late':      float(row['DUE DATE']),\n",
    "        'service':  float(row['SERVICE TIME'])\n",
    "    }\n",
    "\n",
    "d0 = 200.0\n",
    "t0 = node_data[1][\"late\"] # this is based on Solomon dataset. The total time is equal to uppper bound of depot time window\n",
    "\n",
    "\n",
    "# Getting time windows based on bedget remaining logic\n",
    "for u in node_data:\n",
    "    node_data[u][\"t_plus_budget\"] = t0 - node_data[u][\"early\"]  # Adjusted t^+ for budget logic\n",
    "    node_data[u][\"t_minus_budget\"] = t0 - node_data[u][\"late\"]  # Adjusted t^- for budget logic\n",
    "\n",
    "node_data[1][\"t_minus_budget\"] = node_data[1][\"t_plus_budget\"]\n",
    "# Indices for depots\n",
    "alpha = 1\n",
    "bar_alpha = len(node_data)  \n",
    "\n",
    "# Extracting all customers from all nodes\n",
    "all_nodes = list(node_data.keys())  # e.g. [0,1,2,3,4,5]\n",
    "customers = [n for n in all_nodes if n not in (alpha, bar_alpha)]"
   ]
  },
  {
   "cell_type": "markdown",
   "metadata": {},
   "source": [
    "#### Creating feasible arcs for the model. The infeasible arcs in terms of time windows and capacity are excluded from the network"
   ]
  },
  {
   "cell_type": "code",
   "execution_count": 4,
   "metadata": {},
   "outputs": [],
   "source": [
    "E_star = generate_E_star(all_nodes, node_data, alpha, bar_alpha, d0)"
   ]
  },
  {
   "cell_type": "markdown",
   "metadata": {},
   "source": [
    "#### Solving the objective function model"
   ]
  },
  {
   "cell_type": "code",
   "execution_count": 5,
   "metadata": {},
   "outputs": [
    {
     "name": "stdout",
     "output_type": "stream",
     "text": [
      "Set parameter Username\n",
      "Set parameter LicenseID to value 2602720\n",
      "Academic license - for non-commercial use only - expires 2025-12-22\n",
      "Set parameter TimeLimit to value 1000\n",
      "Gurobi Optimizer version 12.0.0 build v12.0.0rc1 (mac64[x86] - Darwin 22.1.0 22A400)\n",
      "\n",
      "CPU model: Intel(R) Core(TM) i5-1038NG7 CPU @ 2.00GHz\n",
      "Thread count: 4 physical cores, 8 logical processors, using up to 8 threads\n",
      "\n",
      "Non-default parameters:\n",
      "TimeLimit  1000\n",
      "\n",
      "Optimize a model with 811 rows, 459 columns and 3059 nonzeros\n",
      "Model fingerprint: 0xe7663d99\n",
      "Variable types: 54 continuous, 405 integer (405 binary)\n",
      "Coefficient statistics:\n",
      "  Matrix range     [1e+00, 3e+02]\n",
      "  Objective range  [7e+00, 6e+01]\n",
      "  Bounds range     [1e+00, 2e+02]\n",
      "  RHS range        [1e+00, 2e+02]\n",
      "Found heuristic solution: objective 1246.1800000\n",
      "Presolve removed 111 rows and 15 columns\n",
      "Presolve time: 0.02s\n",
      "Presolved: 700 rows, 444 columns, 5408 nonzeros\n",
      "Variable types: 48 continuous, 396 integer (396 binary)\n",
      "\n",
      "Root relaxation: objective 3.888544e+02, 131 iterations, 0.00 seconds (0.00 work units)\n",
      "\n",
      "    Nodes    |    Current Node    |     Objective Bounds      |     Work\n",
      " Expl Unexpl |  Obj  Depth IntInf | Incumbent    BestBd   Gap | It/Node Time\n",
      "\n",
      "     0     0  388.85439    0   44 1246.18000  388.85439  68.8%     -    0s\n",
      "H    0     0                     805.0500000  388.85439  51.7%     -    0s\n",
      "H    0     0                     591.5800000  388.85439  34.3%     -    0s\n",
      "     0     0  441.98673    0   53  591.58000  441.98673  25.3%     -    0s\n",
      "H    0     0                     585.8600000  450.26173  23.1%     -    0s\n",
      "     0     0  450.26173    0   48  585.86000  450.26173  23.1%     -    0s\n",
      "     0     0  450.26173    0   48  585.86000  450.26173  23.1%     -    0s\n",
      "     0     0  472.67934    0   51  585.86000  472.67934  19.3%     -    0s\n",
      "H    0     0                     581.8700000  472.88013  18.7%     -    0s\n",
      "     0     0  473.93086    0   53  581.87000  473.93086  18.6%     -    0s\n",
      "     0     0  474.43345    0   52  581.87000  474.43345  18.5%     -    0s\n",
      "     0     0  474.43345    0   52  581.87000  474.43345  18.5%     -    0s\n",
      "H    0     0                     574.0000000  474.43345  17.3%     -    0s\n",
      "     0     0  498.00000    0   34  574.00000  498.00000  13.2%     -    0s\n",
      "     0     0  498.14000    0   34  574.00000  498.14000  13.2%     -    0s\n",
      "     0     0  499.45753    0   49  574.00000  499.45753  13.0%     -    0s\n",
      "     0     0  499.80128    0   46  574.00000  499.80128  12.9%     -    0s\n",
      "     0     0  499.80128    0   49  574.00000  499.80128  12.9%     -    0s\n",
      "     0     0  499.80128    0   45  574.00000  499.80128  12.9%     -    0s\n",
      "     0     0  500.05000    0   45  574.00000  500.05000  12.9%     -    0s\n",
      "H    0     0                     573.6700000  500.05000  12.8%     -    0s\n",
      "     0     0  501.33000    0   50  573.67000  501.33000  12.6%     -    0s\n",
      "H    0     0                     573.5900000  501.39000  12.6%     -    0s\n",
      "H    0     0                     571.1500000  501.39000  12.2%     -    0s\n",
      "H    0     0                     564.6600000  501.39000  11.2%     -    0s\n",
      "     0     0  501.49000    0   42  564.66000  501.49000  11.2%     -    0s\n",
      "H    0     0                     561.7800000  501.49000  10.7%     -    0s\n",
      "     0     0  501.49000    0   42  561.78000  501.49000  10.7%     -    0s\n",
      "H    0     0                     560.8700000  501.49000  10.6%     -    0s\n",
      "     0     0  502.27113    0   47  560.87000  502.27113  10.4%     -    0s\n",
      "     0     0  502.34273    0   51  560.87000  502.34273  10.4%     -    0s\n",
      "     0     0  502.34273    0   50  560.87000  502.34273  10.4%     -    0s\n",
      "     0     0  502.90500    0   50  560.87000  502.90500  10.3%     -    0s\n",
      "     0     0  503.02524    0   52  560.87000  503.02524  10.3%     -    0s\n",
      "     0     0  503.30796    0   52  560.87000  503.30796  10.3%     -    0s\n",
      "     0     0  503.30796    0   49  560.87000  503.30796  10.3%     -    0s\n",
      "H    0     0                     554.9600000  503.30796  9.31%     -    0s\n",
      "     0     0  503.43107    0   49  554.96000  503.43107  9.29%     -    0s\n",
      "     0     2  503.46662    0   49  554.96000  503.46662  9.28%     -    0s\n",
      "H  351   224                     551.9300000  512.30209  7.18%  14.0    0s\n",
      "H  608   248                     548.1100000  519.95282  5.14%  14.4    0s\n",
      "\n",
      "Cutting planes:\n",
      "  Learned: 3\n",
      "  Cover: 38\n",
      "  Implied bound: 29\n",
      "  Clique: 1\n",
      "  MIR: 91\n",
      "  StrongCG: 11\n",
      "  GUB cover: 5\n",
      "  Inf proof: 1\n",
      "  Zero half: 5\n",
      "  RLT: 18\n",
      "  Relax-and-lift: 38\n",
      "  BQP: 19\n",
      "  PSD: 3\n",
      "\n",
      "Explored 1518 nodes (21367 simplex iterations) in 0.80 seconds (0.67 work units)\n",
      "Thread count was 8 (of 8 available processors)\n",
      "\n",
      "Solution count 10: 548.11 551.93 554.96 ... 574\n",
      "\n",
      "Optimal solution found (tolerance 1.00e-04)\n",
      "Best objective 5.481100000000e+02, best bound 5.481100000000e+02, gap 0.0000%\n",
      "Optimal solution found in 0.8032 seconds.\n",
      "Optimal objective value: 548.110\n",
      "Used arcs:\n",
      "  1 -> 3, cost=18.00\n",
      "  1 -> 4, cost=22.36\n",
      "  1 -> 8, cost=21.21\n",
      "  1 -> 9, cost=26.25\n",
      "  1 -> 15, cost=32.02\n",
      "  1 -> 19, cost=15.81\n",
      "  1 -> 22, cost=18.03\n",
      "  2 -> 27, cost=15.23\n",
      "  3 -> 16, cost=13.00\n",
      "  4 -> 10, cost=15.00\n",
      "  5 -> 26, cost=10.00\n",
      "  6 -> 27, cost=20.62\n",
      "  7 -> 14, cost=7.07\n",
      "  8 -> 12, cost=15.00\n",
      "  9 -> 18, cost=13.93\n",
      "  10 -> 21, cost=11.18\n",
      "  11 -> 27, cost=25.50\n",
      "  12 -> 20, cost=7.07\n",
      "  13 -> 27, cost=15.00\n",
      "  14 -> 27, cost=11.18\n",
      "  15 -> 17, cost=11.18\n",
      "  16 -> 23, cost=15.81\n",
      "  17 -> 7, cost=18.03\n",
      "  18 -> 6, cost=10.00\n",
      "  19 -> 27, cost=15.81\n",
      "  20 -> 11, cost=15.00\n",
      "  21 -> 2, cost=16.49\n",
      "  22 -> 24, cost=18.03\n",
      "  23 -> 5, cost=14.14\n",
      "  24 -> 25, cost=31.62\n",
      "  25 -> 13, cost=15.00\n",
      "  26 -> 27, cost=33.54\n"
     ]
    }
   ],
   "source": [
    "objective_value = solve_model(all_nodes, customers, node_data, E_star, t0, d0, alpha, bar_alpha)"
   ]
  },
  {
   "cell_type": "code",
   "execution_count": null,
   "metadata": {},
   "outputs": [],
   "source": []
  }
 ],
 "metadata": {
  "kernelspec": {
   "display_name": "Python (myenv)",
   "language": "python",
   "name": "myenv"
  },
  "language_info": {
   "codemirror_mode": {
    "name": "ipython",
    "version": 3
   },
   "file_extension": ".py",
   "mimetype": "text/x-python",
   "name": "python",
   "nbconvert_exporter": "python",
   "pygments_lexer": "ipython3",
   "version": "3.12.7"
  }
 },
 "nbformat": 4,
 "nbformat_minor": 4
}
